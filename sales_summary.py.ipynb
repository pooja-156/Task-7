{
 "cells": [
  {
   "cell_type": "code",
   "execution_count": null,
   "id": "69b93f2c-e1d6-441a-83bd-4b65786e0cdd",
   "metadata": {},
   "outputs": [],
   "source": [
    "import sqlite3\n",
    "\n",
    "# Connect to (or create) the database\n",
    "conn = sqlite3.connect(\"sales_data.db\")\n",
    "cursor = conn.cursor()\n",
    "\n",
    "# Create the sales table\n",
    "cursor.execute(\"\"\"\n",
    "CREATE TABLE IF NOT EXISTS sales (\n",
    "    id INTEGER PRIMARY KEY AUTOINCREMENT,\n",
    "    product TEXT,\n",
    "    quantity INTEGER,\n",
    "    price REAL\n",
    ")\n",
    "\"\"\")\n",
    "\n",
    "# Insert sample data\n",
    "sample_data =  [\n",
    "    ('Apple', 10, 0.5),\n",
    "    ('Banana', 15, 0.3),\n",
    "    ('Orange', 8, 0.6),\n",
    "    ('Apple', 7, 0.5),\n",
    "    ('Banana', 10, 0.3)\n",
    "]\n",
    "\n",
    "\n",
    "cursor.executemany(\"INSERT INTO sales (product, quantity, price) VALUES (?, ?, ?)\", sample_data)\n",
    "conn.commit()\n"
   ]
  },
  {
   "cell_type": "code",
   "execution_count": null,
   "id": "f566d7f3-b15b-4037-8590-3057d2b544fa",
   "metadata": {},
   "outputs": [],
   "source": [
    "import sqlite3\n",
    "\n",
    "# Connect to (or create) the database\n",
    "conn = sqlite3.connect(\"sales_data.db\")\n",
    "cursor = conn.cursor()\n",
    "\n",
    "# Drop the old sales table if it exists\n",
    "cursor.execute(\"DROP TABLE IF EXISTS sales\")\n",
    "\n",
    "# Now create the new table\n",
    "cursor.execute(\"\"\"\n",
    "CREATE TABLE sales (\n",
    "    id INTEGER PRIMARY KEY AUTOINCREMENT,\n",
    "    product TEXT,\n",
    "    quantity INTEGER,\n",
    "    price REAL\n",
    ")\n",
    "\"\"\")\n",
    "\n",
    "# Insert sample data\n",
    "sample_data = [\n",
    "    ('Apple', 10, 0.5),\n",
    "    ('Banana', 15, 0.3),\n",
    "    ('Orange', 8, 0.6),\n",
    "    ('Apple', 7, 0.5),\n",
    "    ('Banana', 10, 0.3)\n",
    "]\n",
    "\n",
    "cursor.executemany(\"INSERT INTO sales (product, quantity, price) VALUES (?, ?, ?)\", sample_data)\n",
    "conn.commit()\n",
    "conn.close()\n"
   ]
  },
  {
   "cell_type": "code",
   "execution_count": null,
   "id": "19289207-8176-4015-b509-bc21da531813",
   "metadata": {},
   "outputs": [],
   "source": [
    "import os\n",
    "\n",
    "if os.path.exists(\"sales_data.db\"):\n",
    "    os.remove(\"sales_data.db\")\n"
   ]
  },
  {
   "cell_type": "code",
   "execution_count": null,
   "id": "b79958de-4f52-4f6e-8cf3-1efde7bdfa2e",
   "metadata": {},
   "outputs": [],
   "source": [
    "conn = sqlite3.connect(\"sales_data.db\")\n"
   ]
  },
  {
   "cell_type": "code",
   "execution_count": null,
   "id": "2083c338-7b3e-49e1-a86d-0325ecafd0a2",
   "metadata": {},
   "outputs": [],
   "source": [
    "conn.close()\n"
   ]
  },
  {
   "cell_type": "code",
   "execution_count": null,
   "id": "23159452-bb54-47dc-96ad-a98ba9c5eb70",
   "metadata": {},
   "outputs": [],
   "source": [
    "import os\n",
    "\n",
    "if os.path.exists(\"sales_data.db\"):\n",
    "    os.remove(\"sales_data.db\")\n",
    "    print(\"Database deleted.\")\n",
    "else:\n",
    "    print(\"Database file not found.\")\n"
   ]
  },
  {
   "cell_type": "code",
   "execution_count": null,
   "id": "76fe942b-33f5-4e9c-8025-852e21e32bbb",
   "metadata": {},
   "outputs": [],
   "source": [
    "try:\n",
    "    conn.close()\n",
    "except:\n",
    "    pass  # if conn doesn't exist yet, skip\n"
   ]
  },
  {
   "cell_type": "code",
   "execution_count": 1,
   "id": "3aa988dd-b8dd-47e3-b08e-6847c0bc2823",
   "metadata": {},
   "outputs": [
    {
     "name": "stdout",
     "output_type": "stream",
     "text": [
      "Database deleted.\n"
     ]
    }
   ],
   "source": [
    "import os\n",
    "\n",
    "if os.path.exists(\"sales_data.db\"):\n",
    "    os.remove(\"sales_data.db\")\n",
    "    print(\"Database deleted.\")\n",
    "else:\n",
    "    print(\"No database file found.\")\n"
   ]
  },
  {
   "cell_type": "code",
   "execution_count": 2,
   "id": "463a2cdb-fc5c-4e37-aacd-de7486b67865",
   "metadata": {},
   "outputs": [
    {
     "name": "stdout",
     "output_type": "stream",
     "text": [
      "Sales Summary:\n",
      "  product  total_qty  revenue\n",
      "0   Apple         17      8.5\n",
      "1  Banana         25      7.5\n",
      "2  Orange          8      4.8\n"
     ]
    },
    {
     "data": {
      "image/png": "[encoded data removed]",
      "text/plain": [
       "<Figure size 640x480 with 1 Axes>"
      ]
     },
     "metadata": {},
     "output_type": "display_data"
    }
   ],
   "source": [
    "# Step 1: Import necessary libraries\n",
    "import sqlite3\n",
    "import pandas as pd\n",
    "import matplotlib.pyplot as plt\n",
    "\n",
    "# Step 2: Create a fresh SQLite database and connect\n",
    "conn = sqlite3.connect(\"sales_data.db\")\n",
    "cursor = conn.cursor()\n",
    "\n",
    "# Step 3: Create the 'sales' table\n",
    "cursor.execute(\"\"\"\n",
    "CREATE TABLE sales (\n",
    "    id INTEGER PRIMARY KEY AUTOINCREMENT,\n",
    "    product TEXT,\n",
    "    quantity INTEGER,\n",
    "    price REAL\n",
    ")\n",
    "\"\"\")\n",
    "\n",
    "# Step 4: Insert sample data\n",
    "sample_data = [\n",
    "    ('Apple', 10, 0.5),\n",
    "    ('Banana', 15, 0.3),\n",
    "    ('Orange', 8, 0.6),\n",
    "    ('Apple', 7, 0.5),\n",
    "    ('Banana', 10, 0.3)\n",
    "]\n",
    "\n",
    "cursor.executemany(\"INSERT INTO sales (product, quantity, price) VALUES (?, ?, ?)\", sample_data)\n",
    "conn.commit()\n",
    "\n",
    "# Step 5: Query total quantity and revenue per product\n",
    "query = \"\"\"\n",
    "SELECT \n",
    "    product, \n",
    "    SUM(quantity) AS total_qty, \n",
    "    SUM(quantity * price) AS revenue \n",
    "FROM sales \n",
    "GROUP BY product\n",
    "\"\"\"\n",
    "\n",
    "df = pd.read_sql_query(query, conn)\n",
    "\n",
    "# Step 6: Display result\n",
    "print(\"Sales Summary:\")\n",
    "print(df)\n",
    "\n",
    "# Step 7: Plot bar chart for revenue per product\n",
    "df.plot(kind='bar', x='product', y='revenue', legend=False, color='skyblue')\n",
    "plt.title(\"Revenue by Product\")\n",
    "plt.ylabel(\"Revenue ($)\")\n",
    "plt.xlabel(\"Product\")\n",
    "plt.tight_layout()\n",
    "plt.show()\n",
    "\n",
    "# Step 8: Close the database connection\n",
    "conn.close()\n"
   ]
  },
  {
   "cell_type": "code",
   "execution_count": 3,
   "id": "3717f89e-b104-4edc-b73d-1b4073b61e74",
   "metadata": {},
   "outputs": [
    {
     "data": {
      "text/plain": [
       "<Figure size 640x480 with 0 Axes>"
      ]
     },
     "metadata": {},
     "output_type": "display_data"
    }
   ],
   "source": [
    "plt.savefig(\"sales_chart.png\")\n"
   ]
  },
  {
   "cell_type": "code",
   "execution_count": 4,
   "id": "e99e8289-bb56-4073-b0fc-e8b018a1af63",
   "metadata": {},
   "outputs": [],
   "source": [
    "sample_data = [\n",
    "    ('Apple', 10, 0.5),\n",
    "    ('Banana', 15, 0.3),\n",
    "    ('Orange', 8, 0.6),\n",
    "    ('Apple', 7, 0.5),\n",
    "    ('Banana', 10, 0.3),\n",
    "    ('Grapes', 12, 0.8),\n",
    "    ('Pineapple', 5, 1.5),\n",
    "    ('Mango', 9, 1.2),\n",
    "    ('Watermelon', 3, 3.0),\n",
    "    ('Grapes', 6, 0.8)\n",
    "]\n"
   ]
  },
  {
   "cell_type": "code",
   "execution_count": 5,
   "id": "1cd3d8fb-d395-4948-9898-149fddf32ccb",
   "metadata": {},
   "outputs": [],
   "source": [
    "df = df.sort_values(by='revenue', ascending=False)\n"
   ]
  },
  {
   "cell_type": "code",
   "execution_count": 6,
   "id": "050fe4aa-88b7-4312-b4d1-6f48ba97f29c",
   "metadata": {},
   "outputs": [
    {
     "name": "stdout",
     "output_type": "stream",
     "text": [
      "Sales Summary (sorted by revenue):\n",
      "      product  total_qty  revenue\n",
      "2      Grapes         18     14.4\n",
      "3       Mango          9     10.8\n",
      "6  Watermelon          3      9.0\n",
      "0       Apple         17      8.5\n",
      "1      Banana         25      7.5\n",
      "5   Pineapple          5      7.5\n",
      "4      Orange          8      4.8\n"
     ]
    },
    {
     "data": {
      "image/png": "[encoded data removed]",
      "text/plain": [
       "<Figure size 640x480 with 1 Axes>"
      ]
     },
     "metadata": {},
     "output_type": "display_data"
    }
   ],
   "source": [
    "# Step 1: Reconnect and drop old table\n",
    "conn = sqlite3.connect(\"sales_data.db\")\n",
    "cursor = conn.cursor()\n",
    "\n",
    "cursor.execute(\"DROP TABLE IF EXISTS sales\")\n",
    "\n",
    "# Step 2: Create table again\n",
    "cursor.execute(\"\"\"\n",
    "CREATE TABLE sales (\n",
    "    id INTEGER PRIMARY KEY AUTOINCREMENT,\n",
    "    product TEXT,\n",
    "    quantity INTEGER,\n",
    "    price REAL\n",
    ")\n",
    "\"\"\")\n",
    "\n",
    "# Step 3: Add more sample data\n",
    "sample_data = [\n",
    "    ('Apple', 10, 0.5),\n",
    "    ('Banana', 15, 0.3),\n",
    "    ('Orange', 8, 0.6),\n",
    "    ('Apple', 7, 0.5),\n",
    "    ('Banana', 10, 0.3),\n",
    "    ('Grapes', 12, 0.8),\n",
    "    ('Pineapple', 5, 1.5),\n",
    "    ('Mango', 9, 1.2),\n",
    "    ('Watermelon', 3, 3.0),\n",
    "    ('Grapes', 6, 0.8)\n",
    "]\n",
    "\n",
    "cursor.executemany(\"INSERT INTO sales (product, quantity, price) VALUES (?, ?, ?)\", sample_data)\n",
    "conn.commit()\n",
    "\n",
    "# Step 4: Query with pandas and sort by revenue\n",
    "import pandas as pd\n",
    "\n",
    "query = \"\"\"\n",
    "SELECT \n",
    "    product, \n",
    "    SUM(quantity) AS total_qty, \n",
    "    SUM(quantity * price) AS revenue \n",
    "FROM sales \n",
    "GROUP BY product\n",
    "\"\"\"\n",
    "\n",
    "df = pd.read_sql_query(query, conn)\n",
    "df = df.sort_values(by='revenue', ascending=False)\n",
    "\n",
    "# Step 5: Print and plot\n",
    "print(\"Sales Summary (sorted by revenue):\")\n",
    "print(df)\n",
    "\n",
    "import matplotlib.pyplot as plt\n",
    "\n",
    "df.plot(kind='bar', x='product', y='revenue', legend=False, color='orange')\n",
    "plt.title(\"Revenue by Product (Sorted)\")\n",
    "plt.ylabel(\"Revenue ($)\")\n",
    "plt.xlabel(\"Product\")\n",
    "plt.tight_layout()\n",
    "plt.show()\n",
    "\n",
    "conn.close()\n"
   ]
  },
  {
   "cell_type": "code",
   "execution_count": 7,
   "id": "027b4d37-4e1b-4459-a9dd-62decdfc7d47",
   "metadata": {},
   "outputs": [
    {
     "data": {
      "text/plain": [
       "<Figure size 640x480 with 0 Axes>"
      ]
     },
     "metadata": {},
     "output_type": "display_data"
    }
   ],
   "source": [
    "plt.savefig(\"revenue_chart_sorted.png\")\n"
   ]
  },
  {
   "cell_type": "code",
   "execution_count": 8,
   "id": "e6b75ed4-4309-4547-aea0-590ecdad5825",
   "metadata": {},
   "outputs": [],
   "source": [
    "df.to_csv(\"sales_summary_sorted.csv\", index=False)\n"
   ]
  },
  {
   "cell_type": "code",
   "execution_count": 9,
   "id": "13da5ae9-238e-4556-b055-6c0841a9d8ed",
   "metadata": {},
   "outputs": [
    {
     "name": "stdout",
     "output_type": "stream",
     "text": [
      "\n",
      "Products with Revenue > $5:\n",
      "      product  total_qty  revenue\n",
      "2      Grapes         18     14.4\n",
      "3       Mango          9     10.8\n",
      "6  Watermelon          3      9.0\n",
      "0       Apple         17      8.5\n",
      "1      Banana         25      7.5\n",
      "5   Pineapple          5      7.5\n"
     ]
    }
   ],
   "source": [
    "high_revenue_df = df[df['revenue'] > 5]\n",
    "print(\"\\nProducts with Revenue > $5:\")\n",
    "print(high_revenue_df)\n"
   ]
  },
  {
   "cell_type": "code",
   "execution_count": 10,
   "id": "98377163-700b-4209-8340-75c609bb9663",
   "metadata": {},
   "outputs": [
    {
     "data": {
      "image/png": "[encoded data removed]",
      "text/plain": [
       "<Figure size 640x480 with 1 Axes>"
      ]
     },
     "metadata": {},
     "output_type": "display_data"
    }
   ],
   "source": [
    "high_revenue_df.plot(kind='bar', x='product', y='revenue', legend=False, color='green')\n",
    "plt.title(\"Top Products (Revenue > $5)\")\n",
    "plt.ylabel(\"Revenue ($)\")\n",
    "plt.xlabel(\"Product\")\n",
    "plt.tight_layout()\n",
    "plt.savefig(\"top_products_chart.png\")\n",
    "plt.show()\n"
   ]
  },
  {
   "cell_type": "code",
   "execution_count": 11,
   "id": "b5f44f65-abe5-479e-aef5-097c2a218829",
   "metadata": {},
   "outputs": [
    {
     "name": "stdout",
     "output_type": "stream",
     "text": [
      "\n",
      "Products with Revenue > $5:\n",
      "      product  total_qty  revenue\n",
      "2      Grapes         18     14.4\n",
      "3       Mango          9     10.8\n",
      "6  Watermelon          3      9.0\n",
      "0       Apple         17      8.5\n",
      "1      Banana         25      7.5\n",
      "5   Pineapple          5      7.5\n"
     ]
    },
    {
     "data": {
      "text/plain": [
       "<Figure size 640x480 with 0 Axes>"
      ]
     },
     "metadata": {},
     "output_type": "display_data"
    },
    {
     "data": {
      "image/png": "[encoded data removed]",
      "text/plain": [
       "<Figure size 640x480 with 1 Axes>"
      ]
     },
     "metadata": {},
     "output_type": "display_data"
    }
   ],
   "source": [
    "# Save the sorted chart\n",
    "plt.savefig(\"revenue_chart_sorted.png\")\n",
    "\n",
    "# Export sorted summary to CSV\n",
    "df.to_csv(\"sales_summary_sorted.csv\", index=False)\n",
    "\n",
    "# Filter products with revenue > $5\n",
    "high_revenue_df = df[df['revenue'] > 5]\n",
    "print(\"\\nProducts with Revenue > $5:\")\n",
    "print(high_revenue_df)\n",
    "\n",
    "# Plot chart for filtered products\n",
    "high_revenue_df.plot(kind='bar', x='product', y='revenue', legend=False, color='green')\n",
    "plt.title(\"Top Products (Revenue > $5)\")\n",
    "plt.ylabel(\"Revenue ($)\")\n",
    "plt.xlabel(\"Product\")\n",
    "plt.tight_layout()\n",
    "plt.savefig(\"top_products_chart.png\")\n",
    "plt.show()\n"
   ]
  },
  {
   "cell_type": "code",
   "execution_count": null,
   "id": "1a52d3e9-9f29-4524-8ed1-a4efc4f85b2f",
   "metadata": {},
   "outputs": [],
   "source": []
  }
 ],
 "metadata": {
  "kernelspec": {
   "display_name": "Python 3 (ipykernel)",
   "language": "python",
   "name": "python3"
  },
  "language_info": {
   "codemirror_mode": {
    "name": "ipython",
    "version": 3
   },
   "file_extension": ".py",
   "mimetype": "text/x-python",
   "name": "python",
   "nbconvert_exporter": "python",
   "pygments_lexer": "ipython3",
   "version": "3.11.5"
  }
 },
 "nbformat": 4,
 "nbformat_minor": 5
}
